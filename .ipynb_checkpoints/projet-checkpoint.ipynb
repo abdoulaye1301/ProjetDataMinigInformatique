{
 "cells": [
  {
   "cell_type": "markdown",
   "id": "aeaf6234-4c4f-4682-9749-e46b9197aee6",
   "metadata": {},
   "source": [
    "# Abdoulaye NDAO & Malick FAYE"
   ]
  },
  {
   "cell_type": "markdown",
   "id": "9cc49c8f-4292-43a8-ba67-c19d82bb557c",
   "metadata": {
    "jp-MarkdownHeadingCollapsed": true
   },
   "source": [
    "## Importation des bibliotèques et données"
   ]
  },
  {
   "cell_type": "code",
   "execution_count": 1,
   "id": "9467f290-a5e1-4913-a4d8-74ee4b8457e8",
   "metadata": {},
   "outputs": [],
   "source": [
    "# Importation des bibliothèques\n",
    "import warnings\n",
    "warnings.filterwarnings('ignore')\n",
    "import pandas as pd\n",
    "import numpy as np\n",
    "import matplotlib.pyplot as plt\n",
    "import seaborn as sns\n",
    "import scipy.stats as st\n",
    "from mlxtend.frequent_patterns import apriori, association_rules,fpgrowth\n",
    "from sklearn.cluster import KMeans"
   ]
  },
  {
   "cell_type": "code",
   "execution_count": 2,
   "id": "f902481e-ec24-4149-9ed1-0685081337e5",
   "metadata": {},
   "outputs": [
    {
     "name": "stderr",
     "output_type": "stream",
     "text": [
      "C:\\Users\\hp\\AppData\\Local\\Programs\\Python\\Python312\\Lib\\site-packages\\openpyxl\\packaging\\core.py:99: DeprecationWarning: datetime.datetime.utcnow() is deprecated and scheduled for removal in a future version. Use timezone-aware objects to represent datetimes in UTC: datetime.datetime.now(datetime.UTC).\n",
      "  now = datetime.datetime.utcnow()\n",
      "C:\\Users\\hp\\AppData\\Local\\Programs\\Python\\Python312\\Lib\\site-packages\\openpyxl\\packaging\\core.py:99: DeprecationWarning: datetime.datetime.utcnow() is deprecated and scheduled for removal in a future version. Use timezone-aware objects to represent datetimes in UTC: datetime.datetime.now(datetime.UTC).\n",
      "  now = datetime.datetime.utcnow()\n"
     ]
    },
    {
     "data": {
      "text/html": [
       "<div>\n",
       "<style scoped>\n",
       "    .dataframe tbody tr th:only-of-type {\n",
       "        vertical-align: middle;\n",
       "    }\n",
       "\n",
       "    .dataframe tbody tr th {\n",
       "        vertical-align: top;\n",
       "    }\n",
       "\n",
       "    .dataframe thead th {\n",
       "        text-align: right;\n",
       "    }\n",
       "</style>\n",
       "<table border=\"1\" class=\"dataframe\">\n",
       "  <thead>\n",
       "    <tr style=\"text-align: right;\">\n",
       "      <th></th>\n",
       "      <th>InvoiceNo</th>\n",
       "      <th>StockCode</th>\n",
       "      <th>Description</th>\n",
       "      <th>Quantity</th>\n",
       "      <th>InvoiceDate</th>\n",
       "      <th>UnitPrice</th>\n",
       "      <th>CustomerID</th>\n",
       "      <th>Country</th>\n",
       "    </tr>\n",
       "  </thead>\n",
       "  <tbody>\n",
       "    <tr>\n",
       "      <th>0</th>\n",
       "      <td>536365</td>\n",
       "      <td>85123A</td>\n",
       "      <td>WHITE HANGING HEART T-LIGHT HOLDER</td>\n",
       "      <td>6</td>\n",
       "      <td>2010-12-01 08:26:00</td>\n",
       "      <td>2.55</td>\n",
       "      <td>17850.0</td>\n",
       "      <td>United Kingdom</td>\n",
       "    </tr>\n",
       "    <tr>\n",
       "      <th>1</th>\n",
       "      <td>536365</td>\n",
       "      <td>71053</td>\n",
       "      <td>WHITE METAL LANTERN</td>\n",
       "      <td>6</td>\n",
       "      <td>2010-12-01 08:26:00</td>\n",
       "      <td>3.39</td>\n",
       "      <td>17850.0</td>\n",
       "      <td>United Kingdom</td>\n",
       "    </tr>\n",
       "    <tr>\n",
       "      <th>2</th>\n",
       "      <td>536365</td>\n",
       "      <td>84406B</td>\n",
       "      <td>CREAM CUPID HEARTS COAT HANGER</td>\n",
       "      <td>8</td>\n",
       "      <td>2010-12-01 08:26:00</td>\n",
       "      <td>2.75</td>\n",
       "      <td>17850.0</td>\n",
       "      <td>United Kingdom</td>\n",
       "    </tr>\n",
       "    <tr>\n",
       "      <th>3</th>\n",
       "      <td>536365</td>\n",
       "      <td>84029G</td>\n",
       "      <td>KNITTED UNION FLAG HOT WATER BOTTLE</td>\n",
       "      <td>6</td>\n",
       "      <td>2010-12-01 08:26:00</td>\n",
       "      <td>3.39</td>\n",
       "      <td>17850.0</td>\n",
       "      <td>United Kingdom</td>\n",
       "    </tr>\n",
       "    <tr>\n",
       "      <th>4</th>\n",
       "      <td>536365</td>\n",
       "      <td>84029E</td>\n",
       "      <td>RED WOOLLY HOTTIE WHITE HEART.</td>\n",
       "      <td>6</td>\n",
       "      <td>2010-12-01 08:26:00</td>\n",
       "      <td>3.39</td>\n",
       "      <td>17850.0</td>\n",
       "      <td>United Kingdom</td>\n",
       "    </tr>\n",
       "  </tbody>\n",
       "</table>\n",
       "</div>"
      ],
      "text/plain": [
       "  InvoiceNo StockCode                          Description  Quantity  \\\n",
       "0    536365    85123A   WHITE HANGING HEART T-LIGHT HOLDER         6   \n",
       "1    536365     71053                  WHITE METAL LANTERN         6   \n",
       "2    536365    84406B       CREAM CUPID HEARTS COAT HANGER         8   \n",
       "3    536365    84029G  KNITTED UNION FLAG HOT WATER BOTTLE         6   \n",
       "4    536365    84029E       RED WOOLLY HOTTIE WHITE HEART.         6   \n",
       "\n",
       "          InvoiceDate  UnitPrice  CustomerID         Country  \n",
       "0 2010-12-01 08:26:00       2.55     17850.0  United Kingdom  \n",
       "1 2010-12-01 08:26:00       3.39     17850.0  United Kingdom  \n",
       "2 2010-12-01 08:26:00       2.75     17850.0  United Kingdom  \n",
       "3 2010-12-01 08:26:00       3.39     17850.0  United Kingdom  \n",
       "4 2010-12-01 08:26:00       3.39     17850.0  United Kingdom  "
      ]
     },
     "execution_count": 2,
     "metadata": {},
     "output_type": "execute_result"
    }
   ],
   "source": [
    "# Importation des données\n",
    "donnees=pd.read_excel(\"data/donnees_ecommerce.xlsx\")\n",
    "# Vusialiasion de la base de données\n",
    "donnees.head()"
   ]
  },
  {
   "cell_type": "code",
   "execution_count": 3,
   "id": "b745f0ac-b035-4f08-8fd0-200d3586492b",
   "metadata": {},
   "outputs": [
    {
     "data": {
      "text/plain": [
       "(541909, 8)"
      ]
     },
     "execution_count": 3,
     "metadata": {},
     "output_type": "execute_result"
    }
   ],
   "source": [
    "# Observation de la dimension de la base de données\n",
    "donnees.shape"
   ]
  },
  {
   "cell_type": "code",
   "execution_count": 63,
   "id": "12d82f40-3102-4678-8c44-5c7afa639c94",
   "metadata": {},
   "outputs": [
    {
     "data": {
      "text/plain": [
       "object            4\n",
       "float64           2\n",
       "int64             1\n",
       "datetime64[ns]    1\n",
       "Name: count, dtype: int64"
      ]
     },
     "execution_count": 63,
     "metadata": {},
     "output_type": "execute_result"
    }
   ],
   "source": [
    "donnees.dtypes.value_counts()"
   ]
  },
  {
   "cell_type": "markdown",
   "id": "c1fb14fe-9f3a-4fbf-8985-247b4c5fe482",
   "metadata": {},
   "source": [
    "La base de données que nous avons dans le cadre de notre étude est constituée de 541909 observations et de 8 variables dont 4 de type **objet**, 3 de type **numérique** et 1 de type **date**."
   ]
  },
  {
   "cell_type": "code",
   "execution_count": 116,
   "id": "0f853c9c-42e3-4754-ac33-16eea92ad282",
   "metadata": {},
   "outputs": [],
   "source": [
    "# copie de la base originale\n",
    "base=donnees.copy()"
   ]
  },
  {
   "cell_type": "markdown",
   "id": "df3e7ee3-e561-4645-9379-b96924b3e549",
   "metadata": {
    "jp-MarkdownHeadingCollapsed": true
   },
   "source": [
    "## **Préparation des données**"
   ]
  },
  {
   "cell_type": "code",
   "execution_count": 118,
   "id": "e7a737cb-d533-46ac-b226-75e525bef6ab",
   "metadata": {},
   "outputs": [
    {
     "data": {
      "text/plain": [
       "5848"
      ]
     },
     "execution_count": 118,
     "metadata": {},
     "output_type": "execute_result"
    }
   ],
   "source": [
    "# Lignes supression de la variable InvoiceNo\n",
    "base.drop(\"InvoiceNo\", axis=1).duplicated().sum()"
   ]
  },
  {
   "cell_type": "markdown",
   "id": "2349494b-457c-4929-b672-ee5cbe7b8428",
   "metadata": {},
   "source": [
    "Apression de la variable **InvoiceNo**, on note qu'on **5848** lignes dupliquées."
   ]
  },
  {
   "cell_type": "code",
   "execution_count": 119,
   "id": "f55fd28e-6256-47fd-842f-ce3d9dccae9c",
   "metadata": {},
   "outputs": [],
   "source": [
    "# Supression des Lignes dupliquées\n",
    "base.drop(\"InvoiceNo\", axis=1).drop_duplicates(inplace=True)"
   ]
  },
  {
   "cell_type": "code",
   "execution_count": 9,
   "id": "3825b855-1c5a-4683-b43b-9aa373c5d850",
   "metadata": {},
   "outputs": [
    {
     "data": {
      "text/plain": [
       "(536061, 7)"
      ]
     },
     "execution_count": 9,
     "metadata": {},
     "output_type": "execute_result"
    }
   ],
   "source": [
    "# Lignes dupliquées\n",
    "base.shape"
   ]
  },
  {
   "cell_type": "markdown",
   "id": "06fd575b-eac4-4e2f-80df-077735b68c38",
   "metadata": {},
   "source": [
    "Note base est maintenant composée de **536061 obsevations** et **7 variables**"
   ]
  },
  {
   "cell_type": "code",
   "execution_count": 93,
   "id": "81e63890-7def-42de-a6c9-b5016c3089d6",
   "metadata": {},
   "outputs": [
    {
     "data": {
      "text/plain": [
       "StockCode           0\n",
       "Description      1453\n",
       "Quantity            0\n",
       "InvoiceDate         0\n",
       "UnitPrice           0\n",
       "CustomerID     134497\n",
       "Country             0\n",
       "dtype: int64"
      ]
     },
     "execution_count": 93,
     "metadata": {},
     "output_type": "execute_result"
    }
   ],
   "source": [
    "# Valeurs manquantes\n",
    "base.isna().sum()"
   ]
  },
  {
   "cell_type": "markdown",
   "id": "ae1acc2f-4d2b-41fd-8013-6d42ab9914b1",
   "metadata": {},
   "source": [
    "On note qu'on a **1453** valeurs manquantes dans la variables **Description** équivaux à **0.27%** et **134497** dans la variable **CustomerID** équivaux à **25.09%**. Ils ont tous des pourcentages inférieur à 30%, alors nous songerons à les imputées. Pour la suite de notre travail, nous allons stocker les variables qualitatives dans la variables **varquali** et les variables quantitatives dans la variable **varquant**."
   ]
  },
  {
   "cell_type": "code",
   "execution_count": 11,
   "id": "8136474a-fb93-4cf1-b220-320341c012fd",
   "metadata": {},
   "outputs": [
    {
     "data": {
      "text/plain": [
       "StockCode              object\n",
       "Description            object\n",
       "Quantity                int64\n",
       "InvoiceDate    datetime64[ns]\n",
       "UnitPrice             float64\n",
       "CustomerID            float64\n",
       "Country                object\n",
       "dtype: object"
      ]
     },
     "execution_count": 11,
     "metadata": {},
     "output_type": "execute_result"
    }
   ],
   "source": [
    "base.dtypes"
   ]
  },
  {
   "cell_type": "code",
   "execution_count": 67,
   "id": "9c46d095-b1d6-41aa-b690-8e74d37396e0",
   "metadata": {},
   "outputs": [],
   "source": [
    "varquanti=['Quantity','UnitPrice']\n",
    "varquali=['StockCode','Description','Country']"
   ]
  },
  {
   "cell_type": "code",
   "execution_count": 68,
   "id": "8ab27115-d6ba-4cb1-8350-d1028c558f51",
   "metadata": {},
   "outputs": [
    {
     "data": {
      "image/png": "[encoded data removed]",
      "text/plain": [
       "<Figure size 1000x500 with 2 Axes>"
      ]
     },
     "metadata": {},
     "output_type": "display_data"
    }
   ],
   "source": [
    "# Observation des valeurs abérantes\n",
    "fig, ax = plt.subplots(1, 2, figsize=(10, 5))\n",
    "ax = ax.flatten()  # aplatir la grille 2x2 en un tableau 1D\n",
    "for i, var in enumerate(varquanti[:2]):\n",
    "    sns.boxenplot(data=base, x=var, ax=ax[i])\n",
    "    ax[i].set_title(var)\n",
    "plt.tight_layout()\n",
    "plt.show()"
   ]
  },
  {
   "cell_type": "markdown",
   "id": "fc6b6c4b-2af3-4757-ad64-fdbe862370f3",
   "metadata": {},
   "source": [
    "On note qu'il y'a des valeurs abérentes dan nos deux variables quantitatives, donc nous songerons à les tréter dans la sute de notre travail."
   ]
  },
  {
   "cell_type": "markdown",
   "id": "9d2408eb-272e-404a-9075-6eee1307088d",
   "metadata": {
    "jp-MarkdownHeadingCollapsed": true
   },
   "source": [
    "#### **Analyse descriptive des variables quantitative**"
   ]
  },
  {
   "cell_type": "code",
   "execution_count": 69,
   "id": "bbb25f83-6657-412f-be4d-5f8e1dbe1bc9",
   "metadata": {},
   "outputs": [
    {
     "data": {
      "text/html": [
       "<div>\n",
       "<style scoped>\n",
       "    .dataframe tbody tr th:only-of-type {\n",
       "        vertical-align: middle;\n",
       "    }\n",
       "\n",
       "    .dataframe tbody tr th {\n",
       "        vertical-align: top;\n",
       "    }\n",
       "\n",
       "    .dataframe thead th {\n",
       "        text-align: right;\n",
       "    }\n",
       "</style>\n",
       "<table border=\"1\" class=\"dataframe\">\n",
       "  <thead>\n",
       "    <tr style=\"text-align: right;\">\n",
       "      <th></th>\n",
       "      <th>count</th>\n",
       "      <th>mean</th>\n",
       "      <th>std</th>\n",
       "      <th>min</th>\n",
       "      <th>25%</th>\n",
       "      <th>50%</th>\n",
       "      <th>75%</th>\n",
       "      <th>max</th>\n",
       "    </tr>\n",
       "  </thead>\n",
       "  <tbody>\n",
       "    <tr>\n",
       "      <th>Quantity</th>\n",
       "      <td>536061.0</td>\n",
       "      <td>9.646148</td>\n",
       "      <td>218.855105</td>\n",
       "      <td>-80995.00</td>\n",
       "      <td>1.00</td>\n",
       "      <td>3.00</td>\n",
       "      <td>10.00</td>\n",
       "      <td>80995.0</td>\n",
       "    </tr>\n",
       "    <tr>\n",
       "      <th>UnitPrice</th>\n",
       "      <td>536061.0</td>\n",
       "      <td>4.631014</td>\n",
       "      <td>97.285571</td>\n",
       "      <td>-11062.06</td>\n",
       "      <td>1.25</td>\n",
       "      <td>2.08</td>\n",
       "      <td>4.13</td>\n",
       "      <td>38970.0</td>\n",
       "    </tr>\n",
       "  </tbody>\n",
       "</table>\n",
       "</div>"
      ],
      "text/plain": [
       "              count      mean         std       min   25%   50%    75%  \\\n",
       "Quantity   536061.0  9.646148  218.855105 -80995.00  1.00  3.00  10.00   \n",
       "UnitPrice  536061.0  4.631014   97.285571 -11062.06  1.25  2.08   4.13   \n",
       "\n",
       "               max  \n",
       "Quantity   80995.0  \n",
       "UnitPrice  38970.0  "
      ]
     },
     "execution_count": 69,
     "metadata": {},
     "output_type": "execute_result"
    }
   ],
   "source": [
    "# La description des variables quantitatives\n",
    "base[varquanti].describe().T"
   ]
  },
  {
   "cell_type": "code",
   "execution_count": 15,
   "id": "6e408eda-3908-490e-8dc4-d55419dea7f8",
   "metadata": {},
   "outputs": [],
   "source": [
    "# Fonction pour Corriger les outliers\n",
    "def outlier(data , x):\n",
    "    q1=data[x].quantile(.25)\n",
    "    q3=data[x].quantile(.75)\n",
    "    IQ= q3 - q1\n",
    "    min=q1 - 1.5*IQ\n",
    "    max=q3 + 1.5*IQ\n",
    "    data.loc[data[x] < min, x] = min\n",
    "    data.loc[data[x] > max, x] = max\n",
    "    return data"
   ]
  },
  {
   "cell_type": "code",
   "execution_count": 120,
   "id": "c2451dfa-8160-4382-980c-e7379972a040",
   "metadata": {},
   "outputs": [],
   "source": [
    "base1=base.copy()"
   ]
  },
  {
   "cell_type": "markdown",
   "id": "e7affbc3-63d5-47b9-b8c4-be4032335d5f",
   "metadata": {},
   "source": [
    "On constate qu'il des valeur négative novariables **Quantity** et **UnitPrice**. Nous procédons par leurs suppressions."
   ]
  },
  {
   "cell_type": "code",
   "execution_count": 76,
   "id": "b07fe1f5-744e-45aa-bbc6-a5f586266b5b",
   "metadata": {},
   "outputs": [],
   "source": [
    "# Suppression des valeurs négatives\n",
    "for var in varquanti:\n",
    "    base1.drop(base1[base1[var] < 0].index, inplace=True)"
   ]
  },
  {
   "cell_type": "code",
   "execution_count": 77,
   "id": "f2c70008-df1b-4a73-a5a2-033428dc3c89",
   "metadata": {},
   "outputs": [
    {
     "data": {
      "text/html": [
       "<div>\n",
       "<style scoped>\n",
       "    .dataframe tbody tr th:only-of-type {\n",
       "        vertical-align: middle;\n",
       "    }\n",
       "\n",
       "    .dataframe tbody tr th {\n",
       "        vertical-align: top;\n",
       "    }\n",
       "\n",
       "    .dataframe thead th {\n",
       "        text-align: right;\n",
       "    }\n",
       "</style>\n",
       "<table border=\"1\" class=\"dataframe\">\n",
       "  <thead>\n",
       "    <tr style=\"text-align: right;\">\n",
       "      <th></th>\n",
       "      <th>count</th>\n",
       "      <th>mean</th>\n",
       "      <th>std</th>\n",
       "      <th>min</th>\n",
       "      <th>25%</th>\n",
       "      <th>50%</th>\n",
       "      <th>75%</th>\n",
       "      <th>max</th>\n",
       "    </tr>\n",
       "  </thead>\n",
       "  <tbody>\n",
       "    <tr>\n",
       "      <th>Quantity</th>\n",
       "      <td>525474.0</td>\n",
       "      <td>10.740471</td>\n",
       "      <td>157.678218</td>\n",
       "      <td>1.0</td>\n",
       "      <td>1.00</td>\n",
       "      <td>4.00</td>\n",
       "      <td>11.00</td>\n",
       "      <td>80995.00</td>\n",
       "    </tr>\n",
       "    <tr>\n",
       "      <th>UnitPrice</th>\n",
       "      <td>525474.0</td>\n",
       "      <td>3.911336</td>\n",
       "      <td>36.072620</td>\n",
       "      <td>0.0</td>\n",
       "      <td>1.25</td>\n",
       "      <td>2.08</td>\n",
       "      <td>4.13</td>\n",
       "      <td>13541.33</td>\n",
       "    </tr>\n",
       "  </tbody>\n",
       "</table>\n",
       "</div>"
      ],
      "text/plain": [
       "              count       mean         std  min   25%   50%    75%       max\n",
       "Quantity   525474.0  10.740471  157.678218  1.0  1.00  4.00  11.00  80995.00\n",
       "UnitPrice  525474.0   3.911336   36.072620  0.0  1.25  2.08   4.13  13541.33"
      ]
     },
     "execution_count": 77,
     "metadata": {},
     "output_type": "execute_result"
    }
   ],
   "source": [
    "# La description des variables quantitatives\n",
    "base1[varquanti].describe().T"
   ]
  },
  {
   "cell_type": "code",
   "execution_count": 78,
   "id": "ad0fd03b-eb99-4803-afe9-b0f18d76cb62",
   "metadata": {},
   "outputs": [],
   "source": [
    "# Correction des outliers\n",
    "for var in varquanti:\n",
    "    base1=outlier(base1,var)"
   ]
  },
  {
   "cell_type": "code",
   "execution_count": 79,
   "id": "be78a61d-9e6a-4a61-a5bf-b8d8ad61483f",
   "metadata": {},
   "outputs": [
    {
     "data": {
      "image/png": "[encoded data removed]",
      "text/plain": [
       "<Figure size 1000x500 with 2 Axes>"
      ]
     },
     "metadata": {},
     "output_type": "display_data"
    }
   ],
   "source": [
    "# Observation des valeurs abérantes\n",
    "fig, ax = plt.subplots(1, 2, figsize=(10, 5))\n",
    "ax = ax.flatten()  # aplatir la grille 2x2 en un tableau 1D\n",
    "for i, var in enumerate(varquanti[:2]):\n",
    "    sns.boxenplot(data=base1, x=var, ax=ax[i])\n",
    "    ax[i].set_title(var)\n",
    "plt.tight_layout()\n",
    "plt.show()"
   ]
  },
  {
   "cell_type": "code",
   "execution_count": 53,
   "id": "d11732d9-f4bd-41f5-ae08-3dd36218ca42",
   "metadata": {},
   "outputs": [
    {
     "data": {
      "image/png": "[encoded data removed]",
      "text/plain": [
       "<Figure size 1000x500 with 2 Axes>"
      ]
     },
     "metadata": {},
     "output_type": "display_data"
    }
   ],
   "source": [
    "# Observation de la distribustion après standardisation des variables quantitatives\n",
    "fig, ax = plt.subplots(1, 2, figsize=(10, 5))\n",
    "ax = ax.flatten()  # Aplatir pour itérer facilement\n",
    "\n",
    "for i, var in enumerate(varquanti):\n",
    "    sns.histplot(data=base1, x=var, stat='density', label='Histogramme', ax=ax[i])\n",
    "    sns.kdeplot(data=base1, x=var, label='Densité de probabilité', color='red', ax=ax[i])\n",
    "    ax[i].set_title(f\"Distribution de la variable {var}\")\n",
    "    ax[i].legend()\n",
    "\n",
    "# Masquer les axes inutilisés si le nombre de variables est impair\n",
    "for j in range(i + 1, len(ax)):\n",
    "    ax[j].set_visible(False)\n",
    "\n",
    "plt.tight_layout()\n",
    "plt.show()\n"
   ]
  },
  {
   "cell_type": "markdown",
   "id": "d2308d8b-5b71-4704-a77c-6b6520f49138",
   "metadata": {},
   "source": [
    "On note que la distribution ne suit pas une distribution normal, pour s'en asurer nous allons procéder avec le test de **Kolmogorov-Smirnov**."
   ]
  },
  {
   "cell_type": "code",
   "execution_count": 57,
   "id": "f6e8d7d0-957f-4149-9836-39a01c803ae3",
   "metadata": {},
   "outputs": [
    {
     "name": "stdout",
     "output_type": "stream",
     "text": [
      "Quantity ne suit pas une distribution normal \n",
      "\n",
      "UnitPrice ne suit pas une distribution normal \n",
      "\n"
     ]
    }
   ],
   "source": [
    "# Test KS\n",
    "for var in varquanti:\n",
    "    statistic, p = st.kstest(base1[var], 'norm')\n",
    "    if p <0.05:\n",
    "        print(f\"{var} ne suit pas une distribution normal \\n\")\n",
    "    else:\n",
    "        print(f\"{var} suit est une distribution normal\")"
   ]
  },
  {
   "cell_type": "markdown",
   "id": "fe64cd98-997d-48b3-bd99-e87a81c591b1",
   "metadata": {},
   "source": [
    "En plus des graphique, le test de Kolmogorov-Smirnov montre que les variables **Quantity** et **UnitPrice** ne suivent pas une distribution normal. Nous allons procéder par la standardisation."
   ]
  },
  {
   "cell_type": "code",
   "execution_count": 85,
   "id": "e34f0252-52b0-4b89-9d97-6c529a15618d",
   "metadata": {},
   "outputs": [],
   "source": [
    "# Standardisation des données\n",
    "base1[varquanti] = base1[varquanti].apply(lambda x : (x-x.mean())/x.std(), axis=1)"
   ]
  },
  {
   "cell_type": "markdown",
   "id": "adda7292-6fc6-4de4-897b-f22927d282f1",
   "metadata": {},
   "source": [
    "Pour ce qui est des valeurs manquantes de la variable **CustomerID**, nous allons procéder par la suppression des observations contenant des valeurs manquantes."
   ]
  },
  {
   "cell_type": "code",
   "execution_count": 84,
   "id": "4228e834-beb9-4f9c-8c2b-0576077fcc4a",
   "metadata": {},
   "outputs": [],
   "source": [
    "# Suppression des valeurs manquantes\n",
    "base1.dropna(subset=[\"CustomerID\"], inplace=True)"
   ]
  },
  {
   "cell_type": "markdown",
   "id": "3d43fbc7-a136-4d63-bff5-fd771e1e0e92",
   "metadata": {
    "jp-MarkdownHeadingCollapsed": true
   },
   "source": [
    "#### **Analyse descriptive des variables qualitative**"
   ]
  },
  {
   "cell_type": "code",
   "execution_count": 86,
   "id": "3560f234-7091-4b64-b229-c981ef3fc29e",
   "metadata": {},
   "outputs": [
    {
     "data": {
      "text/html": [
       "<div>\n",
       "<style scoped>\n",
       "    .dataframe tbody tr th:only-of-type {\n",
       "        vertical-align: middle;\n",
       "    }\n",
       "\n",
       "    .dataframe tbody tr th {\n",
       "        vertical-align: top;\n",
       "    }\n",
       "\n",
       "    .dataframe thead th {\n",
       "        text-align: right;\n",
       "    }\n",
       "</style>\n",
       "<table border=\"1\" class=\"dataframe\">\n",
       "  <thead>\n",
       "    <tr style=\"text-align: right;\">\n",
       "      <th></th>\n",
       "      <th>StockCode</th>\n",
       "      <th>Description</th>\n",
       "      <th>Country</th>\n",
       "    </tr>\n",
       "  </thead>\n",
       "  <tbody>\n",
       "    <tr>\n",
       "      <th>count</th>\n",
       "      <td>392692</td>\n",
       "      <td>392692</td>\n",
       "      <td>392692</td>\n",
       "    </tr>\n",
       "    <tr>\n",
       "      <th>unique</th>\n",
       "      <td>3665</td>\n",
       "      <td>3877</td>\n",
       "      <td>37</td>\n",
       "    </tr>\n",
       "    <tr>\n",
       "      <th>top</th>\n",
       "      <td>85123A</td>\n",
       "      <td>WHITE HANGING HEART T-LIGHT HOLDER</td>\n",
       "      <td>United Kingdom</td>\n",
       "    </tr>\n",
       "    <tr>\n",
       "      <th>freq</th>\n",
       "      <td>2023</td>\n",
       "      <td>2016</td>\n",
       "      <td>349188</td>\n",
       "    </tr>\n",
       "  </tbody>\n",
       "</table>\n",
       "</div>"
      ],
      "text/plain": [
       "       StockCode                         Description         Country\n",
       "count     392692                              392692          392692\n",
       "unique      3665                                3877              37\n",
       "top       85123A  WHITE HANGING HEART T-LIGHT HOLDER  United Kingdom\n",
       "freq        2023                                2016          349188"
      ]
     },
     "execution_count": 86,
     "metadata": {},
     "output_type": "execute_result"
    }
   ],
   "source": [
    "# La description des variables qualitatives\n",
    "base1[varquali].describe()"
   ]
  },
  {
   "cell_type": "markdown",
   "id": "4396bc70-7af1-489a-84b7-7ee136796e33",
   "metadata": {},
   "source": [
    "Pour les valeurs manquantes de la variables **Description**, nous allons utiliser le mode **(top)** pour fair l'imputation"
   ]
  },
  {
   "cell_type": "code",
   "execution_count": 90,
   "id": "fd74f55a-b401-4910-b54d-5733062dc92f",
   "metadata": {},
   "outputs": [],
   "source": [
    "base1[\"Description\"].fillna(\"WHITE HANGING HEART T-LIGHT HOLDER\", inplace=True)"
   ]
  },
  {
   "cell_type": "code",
   "execution_count": 94,
   "id": "87581ea3-8cf4-4e16-bb51-7aac0c752b29",
   "metadata": {},
   "outputs": [
    {
     "name": "stderr",
     "output_type": "stream",
     "text": [
      "C:\\Users\\hp\\AppData\\Local\\Programs\\Python\\Python312\\Lib\\site-packages\\openpyxl\\packaging\\core.py:99: DeprecationWarning: datetime.datetime.utcnow() is deprecated and scheduled for removal in a future version. Use timezone-aware objects to represent datetimes in UTC: datetime.datetime.now(datetime.UTC).\n",
      "  now = datetime.datetime.utcnow()\n",
      "C:\\Users\\hp\\AppData\\Local\\Programs\\Python\\Python312\\Lib\\site-packages\\openpyxl\\writer\\excel.py:292: DeprecationWarning: datetime.datetime.utcnow() is deprecated and scheduled for removal in a future version. Use timezone-aware objects to represent datetimes in UTC: datetime.datetime.now(datetime.UTC).\n",
      "  workbook.properties.modified = datetime.datetime.utcnow()\n"
     ]
    }
   ],
   "source": [
    "# sauvegarde de la base nettoillé\n",
    "base1.to_excel(\"base_ecommerce_clean.xlsx\", index=False)"
   ]
  },
  {
   "cell_type": "markdown",
   "id": "6bc7cc18-fb95-4a25-a10b-a7f5ac4f1c10",
   "metadata": {
    "jp-MarkdownHeadingCollapsed": true
   },
   "source": [
    "## Utilisation de l'algorithme APRIORI"
   ]
  },
  {
   "cell_type": "code",
   "execution_count": 100,
   "id": "f2bcaff1-d868-45db-b218-b611cca75c9b",
   "metadata": {},
   "outputs": [
    {
     "name": "stderr",
     "output_type": "stream",
     "text": [
      "C:\\Users\\hp\\AppData\\Local\\Programs\\Python\\Python312\\Lib\\site-packages\\mlxtend\\frequent_patterns\\fpcommon.py:161: DeprecationWarning: DataFrames with non-bool types result in worse computationalperformance and their support might be discontinued in the future.Please use a DataFrame with bool type\n",
      "  warnings.warn(\n"
     ]
    },
    {
     "data": {
      "text/html": [
       "<div>\n",
       "<style scoped>\n",
       "    .dataframe tbody tr th:only-of-type {\n",
       "        vertical-align: middle;\n",
       "    }\n",
       "\n",
       "    .dataframe tbody tr th {\n",
       "        vertical-align: top;\n",
       "    }\n",
       "\n",
       "    .dataframe thead th {\n",
       "        text-align: right;\n",
       "    }\n",
       "</style>\n",
       "<table border=\"1\" class=\"dataframe\">\n",
       "  <thead>\n",
       "    <tr style=\"text-align: right;\">\n",
       "      <th></th>\n",
       "      <th>antecedents</th>\n",
       "      <th>consequents</th>\n",
       "      <th>lift</th>\n",
       "    </tr>\n",
       "  </thead>\n",
       "  <tbody>\n",
       "    <tr>\n",
       "      <th>0</th>\n",
       "      <td>(3 STRIPEY MICE FELTCRAFT)</td>\n",
       "      <td>(FELTCRAFT 6 FLOWER FRIENDS)</td>\n",
       "      <td>6.080036</td>\n",
       "    </tr>\n",
       "    <tr>\n",
       "      <th>1</th>\n",
       "      <td>(FELTCRAFT 6 FLOWER FRIENDS)</td>\n",
       "      <td>(3 STRIPEY MICE FELTCRAFT)</td>\n",
       "      <td>6.080036</td>\n",
       "    </tr>\n",
       "    <tr>\n",
       "      <th>2</th>\n",
       "      <td>(FELTCRAFT BUTTERFLY HEARTS)</td>\n",
       "      <td>(3 STRIPEY MICE FELTCRAFT)</td>\n",
       "      <td>7.086781</td>\n",
       "    </tr>\n",
       "    <tr>\n",
       "      <th>3</th>\n",
       "      <td>(3 STRIPEY MICE FELTCRAFT)</td>\n",
       "      <td>(FELTCRAFT BUTTERFLY HEARTS)</td>\n",
       "      <td>7.086781</td>\n",
       "    </tr>\n",
       "    <tr>\n",
       "      <th>4</th>\n",
       "      <td>(JAM MAKING SET PRINTED)</td>\n",
       "      <td>(6 RIBBONS RUSTIC CHARM)</td>\n",
       "      <td>2.582494</td>\n",
       "    </tr>\n",
       "    <tr>\n",
       "      <th>...</th>\n",
       "      <td>...</td>\n",
       "      <td>...</td>\n",
       "      <td>...</td>\n",
       "    </tr>\n",
       "    <tr>\n",
       "      <th>5109</th>\n",
       "      <td>(LUNCH BAG RED RETROSPOT)</td>\n",
       "      <td>(LUNCH BAG SUKI DESIGN , LUNCH BAG WOODLAND, L...</td>\n",
       "      <td>7.419708</td>\n",
       "    </tr>\n",
       "    <tr>\n",
       "      <th>5110</th>\n",
       "      <td>(LUNCH BAG SPACEBOY DESIGN )</td>\n",
       "      <td>(LUNCH BAG SUKI DESIGN , LUNCH BAG WOODLAND, L...</td>\n",
       "      <td>7.837962</td>\n",
       "    </tr>\n",
       "    <tr>\n",
       "      <th>5111</th>\n",
       "      <td>(LUNCH BAG WOODLAND)</td>\n",
       "      <td>(LUNCH BAG SUKI DESIGN , LUNCH BAG CARS BLUE, ...</td>\n",
       "      <td>8.935562</td>\n",
       "    </tr>\n",
       "    <tr>\n",
       "      <th>5112</th>\n",
       "      <td>(LUNCH BAG CARS BLUE)</td>\n",
       "      <td>(LUNCH BAG SUKI DESIGN , LUNCH BAG WOODLAND, L...</td>\n",
       "      <td>8.017957</td>\n",
       "    </tr>\n",
       "    <tr>\n",
       "      <th>5113</th>\n",
       "      <td>(LUNCH BAG SUKI DESIGN )</td>\n",
       "      <td>(LUNCH BAG WOODLAND, LUNCH BAG RED RETROSPOT, ...</td>\n",
       "      <td>9.131948</td>\n",
       "    </tr>\n",
       "  </tbody>\n",
       "</table>\n",
       "<p>5114 rows × 3 columns</p>\n",
       "</div>"
      ],
      "text/plain": [
       "                       antecedents  \\\n",
       "0       (3 STRIPEY MICE FELTCRAFT)   \n",
       "1     (FELTCRAFT 6 FLOWER FRIENDS)   \n",
       "2     (FELTCRAFT BUTTERFLY HEARTS)   \n",
       "3       (3 STRIPEY MICE FELTCRAFT)   \n",
       "4         (JAM MAKING SET PRINTED)   \n",
       "...                            ...   \n",
       "5109     (LUNCH BAG RED RETROSPOT)   \n",
       "5110  (LUNCH BAG SPACEBOY DESIGN )   \n",
       "5111          (LUNCH BAG WOODLAND)   \n",
       "5112         (LUNCH BAG CARS BLUE)   \n",
       "5113      (LUNCH BAG SUKI DESIGN )   \n",
       "\n",
       "                                            consequents      lift  \n",
       "0                          (FELTCRAFT 6 FLOWER FRIENDS)  6.080036  \n",
       "1                            (3 STRIPEY MICE FELTCRAFT)  6.080036  \n",
       "2                            (3 STRIPEY MICE FELTCRAFT)  7.086781  \n",
       "3                          (FELTCRAFT BUTTERFLY HEARTS)  7.086781  \n",
       "4                              (6 RIBBONS RUSTIC CHARM)  2.582494  \n",
       "...                                                 ...       ...  \n",
       "5109  (LUNCH BAG SUKI DESIGN , LUNCH BAG WOODLAND, L...  7.419708  \n",
       "5110  (LUNCH BAG SUKI DESIGN , LUNCH BAG WOODLAND, L...  7.837962  \n",
       "5111  (LUNCH BAG SUKI DESIGN , LUNCH BAG CARS BLUE, ...  8.935562  \n",
       "5112  (LUNCH BAG SUKI DESIGN , LUNCH BAG WOODLAND, L...  8.017957  \n",
       "5113  (LUNCH BAG WOODLAND, LUNCH BAG RED RETROSPOT, ...  9.131948  \n",
       "\n",
       "[5114 rows x 3 columns]"
      ]
     },
     "metadata": {},
     "output_type": "display_data"
    }
   ],
   "source": [
    "# Grouper par CustomerID et Description et compter les occurrences, puis transformer\n",
    "basket = base1.groupby(['CustomerID', 'Description'])['Description'].count().unstack().fillna(0)\n",
    "\n",
    "# Convertir les décomptes en binaire (1 si acheté, 0 sinon)\n",
    "basket = basket.applymap(lambda x: 1 if x > 0 else 0)\n",
    "\n",
    "# Appliquer l'algorithme Apriori pour trouver les itemsets fréquents\n",
    "frequent_itemsets = apriori(basket, min_support=0.03, use_colnames=True)\n",
    "\n",
    "# Générer les règles d'association en utilisant 'lift' comme métrique\n",
    "rules = association_rules(frequent_itemsets, metric=\"lift\", min_threshold=1)\n",
    "\n",
    "# Afficher les règles résultantes\n",
    "display(rules[['antecedents', 'consequents', 'lift']])"
   ]
  },
  {
   "cell_type": "markdown",
   "id": "3b457991-3b18-40fe-b842-b3375cb3fa2b",
   "metadata": {
    "jp-MarkdownHeadingCollapsed": true
   },
   "source": [
    "## Utilisation de l'algorithme K-means"
   ]
  },
  {
   "cell_type": "code",
   "execution_count": 122,
   "id": "c53cacbe-0429-407f-8114-69cf7d6381d5",
   "metadata": {},
   "outputs": [
    {
     "data": {
      "image/png": "[encoded data removed]",
      "text/plain": [
       "<Figure size 800x600 with 1 Axes>"
      ]
     },
     "metadata": {},
     "output_type": "display_data"
    }
   ],
   "source": [
    "# Créer la colonne TotalAmount\n",
    "base1[\"TotalAmount\"] = base1[\"Quantity\"] * base1[\"UnitPrice\"]\n",
    "\n",
    "# Regrouper les données par client\n",
    "features = base1.groupby(\"CustomerID\")[[\"Quantity\", \"TotalAmount\"]].sum()\n",
    "\n",
    "# Appliquer KMeans\n",
    "kmeans = KMeans(n_clusters=3, random_state=42)\n",
    "labels = kmeans.fit_predict(features)\n",
    "centers = kmeans.cluster_centers_\n",
    "\n",
    "# Visualisation\n",
    "plt.figure(figsize=(8, 6))\n",
    "plt.scatter(features.values[:, 0], features.values[:, 1], c=labels, cmap='viridis', marker='o', s=50, alpha=0.8)\n",
    "plt.scatter(centers[:, 0], centers[:, 1], c='red', marker='X', s=200, label='Centroïdes')\n",
    "plt.xlabel(\"Quantité Totale\")\n",
    "plt.ylabel(\"Montant Total\")\n",
    "plt.title(\"Résultats du K-Means Clustering\")\n",
    "plt.legend()\n",
    "plt.show()\n"
   ]
  },
  {
   "cell_type": "markdown",
   "id": "0561dbed-e363-4c1e-83d4-eb0dbeff206f",
   "metadata": {
    "jp-MarkdownHeadingCollapsed": true
   },
   "source": [
    "## Utilisation de l'algorithme RFM"
   ]
  },
  {
   "cell_type": "code",
   "execution_count": 112,
   "id": "f1fc33c6-c5b5-408f-9c5a-5befc0e098a4",
   "metadata": {},
   "outputs": [],
   "source": [
    "# Foction pour le modèle RFM\n",
    "def run_rfm(df):\n",
    "\n",
    "    snapshot_date = df[\"InvoiceDate\"].max() + pd.Timedelta(days=1)\n",
    "    rfm = df.groupby(\"CustomerID\").agg(\n",
    "        {\n",
    "            \"InvoiceDate\": lambda x: (snapshot_date - x.max()).days,\n",
    "            \"InvoiceNo\": \"nunique\",\n",
    "            \"TotalAmount\": lambda x: x.sum(),\n",
    "        }\n",
    "    )\n",
    "    rfm.columns = [\"Recence\", \"Frequence\", \"Montant\"]\n",
    "    quartiles = (\n",
    "        rfm[[\"Recence\", \"Frequence\", \"Montant\"]].quantile([0.25, 0.5, 0.75]).to_dict()\n",
    "    )\n",
    "\n",
    "    # Fonction pour definir les côtes de la recences\n",
    "    def r_score(x):\n",
    "        if x <= quartiles[\"Recence\"][0.25]:\n",
    "            return 4\n",
    "        elif quartiles[\"Recence\"][0.25] < x <= quartiles[\"Recence\"][0.5]:\n",
    "            return 3\n",
    "        elif quartiles[\"Recence\"][0.5] < x <= quartiles[\"Recence\"][0.75]:\n",
    "            return 2\n",
    "        else:\n",
    "            return 1\n",
    "\n",
    "    # Fonction pour definir les côtes du montant, et frequence\n",
    "    def fm_score(x, col):\n",
    "        if x <= quartiles[col][0.25]:\n",
    "            return 1\n",
    "        elif quartiles[col][0.25] < x <= quartiles[col][0.5]:\n",
    "            return 2\n",
    "        elif quartiles[col][0.5] < x <= quartiles[col][0.75]:\n",
    "            return 3\n",
    "        else:\n",
    "            return 4\n",
    "\n",
    "    rfm[\"R\"] = rfm[\"Recence\"].apply(lambda x: r_score(x))\n",
    "    rfm[\"F\"] = rfm[\"Frequence\"].apply(lambda x: fm_score(x, \"Frequence\"))\n",
    "    rfm[\"M\"] = rfm[\"Montant\"].apply(lambda x: fm_score(x, \"Montant\"))\n",
    "    # Concatenation des scores RFM\n",
    "    rfm[\"RFM_Score\"] = rfm[\"R\"].map(str) + rfm[\"F\"].map(str) + rfm[\"M\"].map(str)\n",
    "    code_segt = {\n",
    "        # Définition de la carte de segmentation(voir le dessin ci-dessus) à travers un dictionnaire\n",
    "        r\"11\": \"Clients en hibernation\",\n",
    "        r\"1[2-3]\": \"Clients à risque\",\n",
    "        r\"14\": \"Clients à ne pas perdre\",\n",
    "        r\"21\": \"Clients presqu'endormis\",\n",
    "        r\"22\": \"Clients à suivre\",\n",
    "        r\"[2-3][3-4]\": \"Clients loyaux\",\n",
    "        r\"31\": \"Clients prometteurs\",\n",
    "        r\"41\": \"Nouveaux clients\",\n",
    "        r\"[3-4]2\": \"Clients potentiellement loyaux\",\n",
    "        r\"4[3-4]\": \"Très bons clients\",\n",
    "    }\n",
    "\n",
    "    # Ajout de la colonne \"Segment\" au dataframe rfm\n",
    "    rfm[\"Segment\"] = rfm[\"R\"].map(str) + rfm[\"F\"].map(str)\n",
    "    rfm[\"Segment\"] = rfm[\"Segment\"].replace(code_segt, regex=True)\n",
    "    return rfm.reset_index()"
   ]
  },
  {
   "cell_type": "code",
   "execution_count": 123,
   "id": "8530a20e-139b-43d4-9c76-6ca8cf4e83d9",
   "metadata": {},
   "outputs": [],
   "source": [
    "# Application de la fonction\n",
    "rfm_df = run_rfm(base1)"
   ]
  },
  {
   "cell_type": "code",
   "execution_count": 126,
   "id": "a40cdf49-fd02-4eee-8f07-d205336d5eac",
   "metadata": {},
   "outputs": [
    {
     "data": {
      "text/html": [
       "<div>\n",
       "<style scoped>\n",
       "    .dataframe tbody tr th:only-of-type {\n",
       "        vertical-align: middle;\n",
       "    }\n",
       "\n",
       "    .dataframe tbody tr th {\n",
       "        vertical-align: top;\n",
       "    }\n",
       "\n",
       "    .dataframe thead th {\n",
       "        text-align: right;\n",
       "    }\n",
       "</style>\n",
       "<table border=\"1\" class=\"dataframe\">\n",
       "  <thead>\n",
       "    <tr style=\"text-align: right;\">\n",
       "      <th></th>\n",
       "      <th>CustomerID</th>\n",
       "      <th>Recence</th>\n",
       "      <th>Frequence</th>\n",
       "      <th>Montant</th>\n",
       "      <th>R</th>\n",
       "      <th>F</th>\n",
       "      <th>M</th>\n",
       "      <th>RFM_Score</th>\n",
       "      <th>Segment</th>\n",
       "    </tr>\n",
       "  </thead>\n",
       "  <tbody>\n",
       "    <tr>\n",
       "      <th>0</th>\n",
       "      <td>12346.0</td>\n",
       "      <td>326</td>\n",
       "      <td>2</td>\n",
       "      <td>0.00</td>\n",
       "      <td>1</td>\n",
       "      <td>2</td>\n",
       "      <td>1</td>\n",
       "      <td>121</td>\n",
       "      <td>Clients à risque</td>\n",
       "    </tr>\n",
       "    <tr>\n",
       "      <th>1</th>\n",
       "      <td>12347.0</td>\n",
       "      <td>2</td>\n",
       "      <td>7</td>\n",
       "      <td>4310.00</td>\n",
       "      <td>4</td>\n",
       "      <td>4</td>\n",
       "      <td>4</td>\n",
       "      <td>444</td>\n",
       "      <td>Très bons clients</td>\n",
       "    </tr>\n",
       "    <tr>\n",
       "      <th>2</th>\n",
       "      <td>12348.0</td>\n",
       "      <td>75</td>\n",
       "      <td>4</td>\n",
       "      <td>1797.24</td>\n",
       "      <td>2</td>\n",
       "      <td>3</td>\n",
       "      <td>4</td>\n",
       "      <td>234</td>\n",
       "      <td>Clients loyaux</td>\n",
       "    </tr>\n",
       "    <tr>\n",
       "      <th>3</th>\n",
       "      <td>12349.0</td>\n",
       "      <td>19</td>\n",
       "      <td>1</td>\n",
       "      <td>1757.55</td>\n",
       "      <td>3</td>\n",
       "      <td>1</td>\n",
       "      <td>4</td>\n",
       "      <td>314</td>\n",
       "      <td>Clients prometteurs</td>\n",
       "    </tr>\n",
       "    <tr>\n",
       "      <th>4</th>\n",
       "      <td>12350.0</td>\n",
       "      <td>310</td>\n",
       "      <td>1</td>\n",
       "      <td>334.40</td>\n",
       "      <td>1</td>\n",
       "      <td>1</td>\n",
       "      <td>2</td>\n",
       "      <td>112</td>\n",
       "      <td>Clients en hibernation</td>\n",
       "    </tr>\n",
       "  </tbody>\n",
       "</table>\n",
       "</div>"
      ],
      "text/plain": [
       "   CustomerID  Recence  Frequence  Montant  R  F  M RFM_Score  \\\n",
       "0     12346.0      326          2     0.00  1  2  1       121   \n",
       "1     12347.0        2          7  4310.00  4  4  4       444   \n",
       "2     12348.0       75          4  1797.24  2  3  4       234   \n",
       "3     12349.0       19          1  1757.55  3  1  4       314   \n",
       "4     12350.0      310          1   334.40  1  1  2       112   \n",
       "\n",
       "                  Segment  \n",
       "0        Clients à risque  \n",
       "1       Très bons clients  \n",
       "2          Clients loyaux  \n",
       "3     Clients prometteurs  \n",
       "4  Clients en hibernation  "
      ]
     },
     "execution_count": 126,
     "metadata": {},
     "output_type": "execute_result"
    }
   ],
   "source": [
    "# Affichage du résultat\n",
    "pd.DataFrame(rfm_df).head()"
   ]
  }
 ],
 "metadata": {
  "kernelspec": {
   "display_name": "Python 3 (ipykernel)",
   "language": "python",
   "name": "python3"
  },
  "language_info": {
   "codemirror_mode": {
    "name": "ipython",
    "version": 3
   },
   "file_extension": ".py",
   "mimetype": "text/x-python",
   "name": "python",
   "nbconvert_exporter": "python",
   "pygments_lexer": "ipython3",
   "version": "3.12.10"
  }
 },
 "nbformat": 4,
 "nbformat_minor": 5
}
